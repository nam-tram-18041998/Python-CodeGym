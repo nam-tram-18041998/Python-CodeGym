{
 "cells": [
  {
   "cell_type": "code",
   "execution_count": 2,
   "id": "885db0c9",
   "metadata": {},
   "outputs": [
    {
     "name": "stdout",
     "output_type": "stream",
     "text": [
      "Nhap vao do C: 45\n",
      "Do F la:  113.0\n"
     ]
    }
   ],
   "source": [
    "C = int(input('Nhap vao do C: '))\n",
    "F  =  (C * 1.8 ) +  32\n",
    "print('Do F la: ', F)"
   ]
  }
 ],
 "metadata": {
  "kernelspec": {
   "display_name": "Python 3 (ipykernel)",
   "language": "python",
   "name": "python3"
  },
  "language_info": {
   "codemirror_mode": {
    "name": "ipython",
    "version": 3
   },
   "file_extension": ".py",
   "mimetype": "text/x-python",
   "name": "python",
   "nbconvert_exporter": "python",
   "pygments_lexer": "ipython3",
   "version": "3.11.2"
  }
 },
 "nbformat": 4,
 "nbformat_minor": 5
}
