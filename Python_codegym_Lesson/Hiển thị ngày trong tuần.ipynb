{
 "cells": [
  {
   "cell_type": "code",
   "execution_count": null,
   "id": "473b45cf",
   "metadata": {},
   "outputs": [],
   "source": [
    "import datetime\n",
    "\n",
    "# Lấy ngày hiện tại\n",
    "current_date = datetime.datetime.now()\n",
    "\n",
    "# Xác định ngày trong tuần\n",
    "day_of_week = current_date.weekday()\n",
    "\n",
    "# Hiển thị ngày trong tuần\n",
    "if day_of_week == 0:\n",
    "    print(\"Hôm nay là thứ 2\")\n",
    "elif day_of_week == 1:\n",
    "    print(\"Hôm nay là thứ 3\")\n",
    "elif day_of_week == 2:\n",
    "    print(\"Hôm nay là thứ 4\")\n",
    "elif day_of_week == 3:\n",
    "    print(\"Hôm nay là thứ 5\")\n",
    "elif day_of_week == 4:\n",
    "    print(\"Hôm nay là thứ 6\")\n",
    "elif day_of_week == 5:\n",
    "    print(\"Hôm nay là thứ 7\")\n",
    "else:\n",
    "    print(\"Hôm nay là Chủ nhật\")"
   ]
  }
 ],
 "metadata": {
  "kernelspec": {
   "display_name": "Python 3 (ipykernel)",
   "language": "python",
   "name": "python3"
  },
  "language_info": {
   "codemirror_mode": {
    "name": "ipython",
    "version": 3
   },
   "file_extension": ".py",
   "mimetype": "text/x-python",
   "name": "python",
   "nbconvert_exporter": "python",
   "pygments_lexer": "ipython3",
   "version": "3.11.2"
  }
 },
 "nbformat": 4,
 "nbformat_minor": 5
}
