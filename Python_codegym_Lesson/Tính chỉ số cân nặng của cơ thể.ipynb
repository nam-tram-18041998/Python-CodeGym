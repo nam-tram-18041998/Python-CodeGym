{
 "cells": [
  {
   "cell_type": "code",
   "execution_count": null,
   "id": "860a4e4b",
   "metadata": {},
   "outputs": [],
   "source": [
    "weight = float(input(\"Nhập cân nặng (kg): \"))\n",
    "height = float(input(\"Nhập chiều cao (m): \"))\n",
    "\n",
    "bmi = weight / (height ** 2)\n",
    "\n",
    "print(\"Chỉ số BMI của bạn:\", bmi)\n",
    "\n",
    "if bmi < 16:\n",
    "    print(\"Tình trạng cơ thể: Gầy cấp độ III\")\n",
    "elif bmi >= 16 and bmi < 17:\n",
    "    print(\"Tình trạng cơ thể: Gầy cấp độ II\")\n",
    "elif bmi >= 17 and bmi < 18.5:\n",
    "    print(\"Tình trạng cơ thể: Gầy cấp độ I\")\n",
    "elif bmi >= 18.5 and bmi < 25:\n",
    "    print(\"Tình trạng cơ thể: Bình thường\")\n",
    "elif bmi >= 25 and bmi < 30:\n",
    "    print(\"Tình trạng cơ thể: Thừa cân\")\n",
    "elif bmi >= 30 and bmi < 35:\n",
    "    print(\"Tình trạng cơ thể: Béo phì cấp độ I\")\n",
    "elif bmi >= 35 and bmi < 40:\n",
    "    print(\"Tình trạng cơ thể: Béo phì cấp độ II\")\n",
    "else:\n",
    "    print(\"Tình trạng cơ thể: Béo phì cấp độ III\")"
   ]
  }
 ],
 "metadata": {
  "kernelspec": {
   "display_name": "Python 3 (ipykernel)",
   "language": "python",
   "name": "python3"
  },
  "language_info": {
   "codemirror_mode": {
    "name": "ipython",
    "version": 3
   },
   "file_extension": ".py",
   "mimetype": "text/x-python",
   "name": "python",
   "nbconvert_exporter": "python",
   "pygments_lexer": "ipython3",
   "version": "3.11.2"
  }
 },
 "nbformat": 4,
 "nbformat_minor": 5
}
