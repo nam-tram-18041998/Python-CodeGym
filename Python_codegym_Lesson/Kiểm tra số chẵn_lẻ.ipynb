{
 "cells": [
  {
   "cell_type": "code",
   "execution_count": 1,
   "id": "293ef2f7",
   "metadata": {},
   "outputs": [
    {
     "name": "stdout",
     "output_type": "stream",
     "text": [
      "Nhap vao so a: 55\n",
      "La so le\n"
     ]
    }
   ],
   "source": [
    "a = float(input('Nhap vao so a: '))\n",
    "if a % 2 == 0:\n",
    "    print(f'{a} la so chan')\n",
    "else:\n",
    "    print('La so le')"
   ]
  }
 ],
 "metadata": {
  "kernelspec": {
   "display_name": "Python 3 (ipykernel)",
   "language": "python",
   "name": "python3"
  },
  "language_info": {
   "codemirror_mode": {
    "name": "ipython",
    "version": 3
   },
   "file_extension": ".py",
   "mimetype": "text/x-python",
   "name": "python",
   "nbconvert_exporter": "python",
   "pygments_lexer": "ipython3",
   "version": "3.11.2"
  }
 },
 "nbformat": 4,
 "nbformat_minor": 5
}
