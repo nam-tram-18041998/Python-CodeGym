{
 "cells": [
  {
   "cell_type": "code",
   "execution_count": null,
   "id": "50636216",
   "metadata": {},
   "outputs": [],
   "source": [
    "amount_spent = float(input(\"Hãy nhập số tiền đã chi: \"))\n",
    "\n",
    "if amount_spent < 75:\n",
    "    total_payment = amount_spent\n",
    "elif amount_spent >= 75 and amount_spent < 100:\n",
    "    total_payment = amount_spent - 15\n",
    "elif amount_spent >= 100 and amount_spent < 150:\n",
    "    total_payment = amount_spent - 25\n",
    "else:\n",
    "    total_payment = amount_spent - 50\n",
    "\n",
    "print(\"Số tiền phải thanh toán:\", total_payment)"
   ]
  }
 ],
 "metadata": {
  "kernelspec": {
   "display_name": "Python 3 (ipykernel)",
   "language": "python",
   "name": "python3"
  },
  "language_info": {
   "codemirror_mode": {
    "name": "ipython",
    "version": 3
   },
   "file_extension": ".py",
   "mimetype": "text/x-python",
   "name": "python",
   "nbconvert_exporter": "python",
   "pygments_lexer": "ipython3",
   "version": "3.11.2"
  }
 },
 "nbformat": 4,
 "nbformat_minor": 5
}
