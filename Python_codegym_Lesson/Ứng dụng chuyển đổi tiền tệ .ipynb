{
 "cells": [
  {
   "cell_type": "code",
   "execution_count": 1,
   "id": "e7cc0c5f",
   "metadata": {},
   "outputs": [
    {
     "name": "stdout",
     "output_type": "stream",
     "text": [
      "Nhap vao so tien can doi (USD): 23\n",
      "So VND doi duoc:  540040\n"
     ]
    }
   ],
   "source": [
    "USD = int(input('Nhap vao so tien can doi (USD): '))\n",
    "VND = USD * 23480\n",
    "print('So VND doi duoc: ', VND)"
   ]
  }
 ],
 "metadata": {
  "kernelspec": {
   "display_name": "Python 3 (ipykernel)",
   "language": "python",
   "name": "python3"
  },
  "language_info": {
   "codemirror_mode": {
    "name": "ipython",
    "version": 3
   },
   "file_extension": ".py",
   "mimetype": "text/x-python",
   "name": "python",
   "nbconvert_exporter": "python",
   "pygments_lexer": "ipython3",
   "version": "3.11.2"
  }
 },
 "nbformat": 4,
 "nbformat_minor": 5
}
