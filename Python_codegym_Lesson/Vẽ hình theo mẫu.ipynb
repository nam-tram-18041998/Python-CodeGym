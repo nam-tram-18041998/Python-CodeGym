{
 "cells": [
  {
   "cell_type": "code",
   "execution_count": null,
   "id": "55dfed98",
   "metadata": {},
   "outputs": [],
   "source": [
    "import turtle\n",
    "\n",
    "# Khởi tạo màn hình đồ họa và bút vẽ\n",
    "screen = turtle.Screen()\n",
    "pen = turtle.Turtle()\n",
    "\n",
    "# Thiết lập tốc độ vẽ\n",
    "pen.speed(10)\n",
    "\n",
    "# Vẽ hình ellipse\n",
    "radius = 100  # Bán kính của ellipse\n",
    "while True:\n",
    "    # Vẽ cung đường tròn 90 độ với bán kính r\n",
    "    pen.circle(radius, 90)\n",
    "\n",
    "    # Vẽ cung đường tròn 90 độ với bán kính r/2\n",
    "    pen.circle(radius/2, 90)\n",
    "\n",
    "    # Kiểm tra điều kiện thoát khỏi vòng lặp\n",
    "    if pen.heading() == 0:\n",
    "        break\n",
    "\n",
    "# Kết thúc vẽ\n",
    "turtle.done()"
   ]
  },
  {
   "cell_type": "code",
   "execution_count": null,
   "id": "94063276",
   "metadata": {},
   "outputs": [],
   "source": [
    "import turtle\n",
    "\n",
    "# Khởi tạo màn hình đồ họa và bút vẽ\n",
    "screen = turtle.Screen()\n",
    "pen = turtle.Turtle()\n",
    "\n",
    "# Thiết lập tốc độ vẽ\n",
    "pen.speed(10)\n",
    "\n",
    "# Thiết lập màu sắc\n",
    "colors = [\"red\", \"blue\", \"green\", \"orange\", \"purple\"]\n",
    "color_index = 0\n",
    "\n",
    "# Vẽ hình ellipse\n",
    "radius = 100  # Bán kính của ellipse\n",
    "angle = 30  # Góc quay ban đầu\n",
    "while True:\n",
    "    # Thiết lập màu cho bút vẽ\n",
    "    pen.color(colors[color_index])\n",
    "\n",
    "    # Vẽ cung đường tròn 90 độ với bán kính r\n",
    "    pen.circle(radius, 90)\n",
    "\n",
    "    # Vẽ cung đường tròn 90 độ với bán kính r/2\n",
    "    pen.circle(radius/2, 90)\n",
    "\n",
    "    # Thay đổi góc quay\n",
    "    angle += 10\n",
    "    pen.setheading(angle)\n",
    "\n",
    "    # Thay đổi màu sắc\n",
    "    color_index = (color_index + 1) % len(colors)\n",
    "\n",
    "    # Kiểm tra điều kiện thoát khỏi vòng lặp\n",
    "    if pen.heading() == 0:\n",
    "        break\n",
    "\n",
    "# Kết thúc vẽ\n",
    "turtle.done()"
   ]
  }
 ],
 "metadata": {
  "kernelspec": {
   "display_name": "Python 3 (ipykernel)",
   "language": "python",
   "name": "python3"
  },
  "language_info": {
   "codemirror_mode": {
    "name": "ipython",
    "version": 3
   },
   "file_extension": ".py",
   "mimetype": "text/x-python",
   "name": "python",
   "nbconvert_exporter": "python",
   "pygments_lexer": "ipython3",
   "version": "3.11.2"
  }
 },
 "nbformat": 4,
 "nbformat_minor": 5
}
